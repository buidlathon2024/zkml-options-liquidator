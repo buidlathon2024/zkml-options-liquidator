{
    "cells": [
        {
            "cell_type": "markdown",
            "id": "d0a82619",
            "metadata": {},
            "source": [
                "\n",
                "## Model Architecture and training"
            ]
        },
        {
            "cell_type": "code",
            "execution_count": 1,
            "id": "12fb79a8",
            "metadata": {},
            "outputs": [],
            "source": [
                "import numpy as np\n",
                "\n",
                "import torch\n",
                "from torch import nn\n",
                "import torch.nn.functional as F\n",
                "\n",
                "# check if notebook is in colab\n",
                "try:\n",
                "    # install ezkl\n",
                "    import google.colab\n",
                "    import subprocess\n",
                "    import sys\n",
                "    subprocess.check_call([sys.executable, \"-m\", \"pip\", \"install\", \"ezkl\"])\n",
                "    subprocess.check_call([sys.executable, \"-m\", \"pip\", \"install\", \"onnx\"])\n",
                "\n",
                "# rely on local installation of ezkl if the notebook is not in colab\n",
                "except:\n",
                "    pass"
            ]
        },
        {
            "cell_type": "code",
            "execution_count": 2,
            "id": "a2f48c98",
            "metadata": {},
            "outputs": [],
            "source": [
                "model = nn.LSTM(3, 3)  # Input dim is 3, output dim is 3\n",
                "x = torch.randn(1, 3)\n",
                "\n",
                "# this is where you'd train the model"
            ]
        },
        {
            "cell_type": "markdown",
            "id": "fa7d277e",
            "metadata": {},
            "source": [
                "## EZKL "
            ]
        },
        {
            "cell_type": "code",
            "execution_count": 3,
            "id": "6f339a28",
            "metadata": {},
            "outputs": [],
            "source": [
                "\n",
                "import os \n",
                "import ezkl\n",
                "\n",
                "\n",
                "model_path = os.path.join('network.onnx')\n",
                "compiled_model_path = os.path.join('network.compiled')\n",
                "pk_path = os.path.join('test.pk')\n",
                "vk_path = os.path.join('test.vk')\n",
                "settings_path = os.path.join('settings.json')\n",
                "\n",
                "witness_path = os.path.join('witness.json')\n",
                "data_path = os.path.join('input.json')\n",
                "\n"
            ]
        },
        {
            "cell_type": "code",
            "execution_count": 4,
            "id": "27ce542b",
            "metadata": {},
            "outputs": [
                {
                    "name": "stdout",
                    "output_type": "stream",
                    "text": [
                        "{'input_data': [[1.6220875978469849, 0.3597317636013031, 0.8345175981521606, 1.9685660600662231, 0.45953869819641113, 0.35968947410583496, 0.7673524022102356, -0.058587852865457535, 0.3262140154838562, -0.33208921551704407, -0.6318570375442505, 1.1284105777740479, 0.46596136689186096, 1.4800872802734375, 1.363403558731079, 0.035137902945280075, -0.641409695148468, -0.05915956571698189, 0.5282636880874634, 0.9504408240318298, 0.40337294340133667, -0.1421440988779068, 2.072631359100342, -1.0321298837661743, -0.8974454402923584, 0.7173476219177246, 0.5790023803710938, -0.8475150465965271, -0.7141340374946594, -1.978621006011963]]}\n"
                    ]
                },
                {
                    "name": "stderr",
                    "output_type": "stream",
                    "text": [
                        "/Users/ryan/Sites/buidlathon-2024/venv/lib/python3.10/site-packages/torch/onnx/symbolic_opset9.py:4662: UserWarning: Exporting a model to ONNX with a batch_size other than 1, with a variable length with LSTM can cause an error when running the ONNX model with a different batch size. Make sure to save the model with a batch size of 1, or define the initial states (h0/c0) as inputs of the model. \n",
                        "  warnings.warn(\n",
                        "/Users/ryan/Sites/buidlathon-2024/venv/lib/python3.10/site-packages/torch/onnx/symbolic_opset9.py:1314: UserWarning: This model contains a squeeze operation on dimension 1. If the model is intended to be used with dynamic input shapes, please use opset version 11 to export the model.\n",
                        "  warnings.warn(\n"
                    ]
                }
            ],
            "source": [
                "\n",
                "import json \n",
                "\n",
                "\n",
                "# Flips the neural net into inference mode\n",
                "model.eval()\n",
                "model.to('cpu')\n",
                "\n",
                "    # Export the model\n",
                "torch.onnx.export(model,               # model being run\n",
                "                      x,                   # model input (or a tuple for multiple inputs)\n",
                "                      model_path,            # where to save the model (can be a file or file-like object)\n",
                "                      export_params=True,        # store the trained parameter weights inside the model file\n",
                "                      opset_version=10,          # the ONNX version to export the model to\n",
                "                      do_constant_folding=True,  # whether to execute constant folding for optimization\n",
                "                      input_names = ['input'],   # the model's input names\n",
                "                      output_names = ['output'], # the model's output names\n",
                "                      dynamic_axes={'input' : {0 : 'batch_size'},    # variable length axes\n",
                "                                    'output' : {0 : 'batch_size'}})\n",
                "\n",
                "\n",
                "SEQ_LEN = 10\n",
                "shape = (SEQ_LEN, 3)\n",
                "# sequence of length 10\n",
                "x = torch.randn(*shape)\n",
                "\n",
                "data_array = ((x).detach().numpy()).reshape([-1]).tolist()\n",
                "\n",
                "data_json = dict(input_data = [data_array])\n",
                "\n",
                "print(data_json)\n",
                "\n",
                "    # Serialize data into file:\n",
                "json.dump( data_json, open(data_path, 'w' ))\n"
            ]
        },
        {
            "cell_type": "code",
            "execution_count": 5,
            "id": "2fe6d972",
            "metadata": {},
            "outputs": [
                {
                    "name": "stderr",
                    "output_type": "stream",
                    "text": [
                        "Using 2 columns for non-linearity table.\n",
                        "Using 2 columns for non-linearity table.\n",
                        "Using 2 columns for non-linearity table.\n",
                        "Using 2 columns for non-linearity table.\n",
                        "Using 4 columns for non-linearity table.\n",
                        "Using 4 columns for non-linearity table.\n",
                        "Using 4 columns for non-linearity table.\n",
                        "Using 4 columns for non-linearity table.\n",
                        "Using 4 columns for non-linearity table.\n",
                        "Using 4 columns for non-linearity table.\n",
                        "Using 4 columns for non-linearity table.\n",
                        "Using 4 columns for non-linearity table.\n",
                        "Using 2 columns for non-linearity table.\n",
                        "Using 2 columns for non-linearity table.\n",
                        "Using 2 columns for non-linearity table.\n",
                        "Using 3 columns for non-linearity table.\n",
                        "Using 3 columns for non-linearity table.\n",
                        "Using 3 columns for non-linearity table.\n",
                        "Using 3 columns for non-linearity table.\n",
                        "Using 3 columns for non-linearity table.\n",
                        "Using 3 columns for non-linearity table.\n",
                        "Using 3 columns for non-linearity table.\n",
                        "Using 3 columns for non-linearity table.\n",
                        "Using 3 columns for non-linearity table.\n",
                        "Using 3 columns for non-linearity table.\n",
                        "Using 6 columns for non-linearity table.\n",
                        "Using 6 columns for non-linearity table.\n",
                        "Using 6 columns for non-linearity table.\n",
                        "Using 6 columns for non-linearity table.\n",
                        "Using 12 columns for non-linearity table.\n",
                        "Using 12 columns for non-linearity table.\n",
                        "Using 12 columns for non-linearity table.\n",
                        "Using 12 columns for non-linearity table.\n",
                        "Using 12 columns for non-linearity table.\n",
                        "Using 12 columns for non-linearity table.\n",
                        "Using 12 columns for non-linearity table.\n",
                        "Using 12 columns for non-linearity table.\n",
                        "Using 6 columns for non-linearity table.\n",
                        "Using 6 columns for non-linearity table.\n",
                        "Using 6 columns for non-linearity table.\n",
                        "Using 12 columns for non-linearity table.\n",
                        "Using 12 columns for non-linearity table.\n",
                        "Using 12 columns for non-linearity table.\n",
                        "\n",
                        "\n",
                        " <------------- Numerical Fidelity Report (input_scale: 11, param_scale: 11, scale_input_multiplier: 1) ------------->\n",
                        "\n",
                        "+---------------+----------------+--------------+----------------+----------------+------------------+---------------+------------------+--------------------+--------------------+------------------------+\n",
                        "| mean_error    | median_error   | max_error    | min_error      | mean_abs_error | median_abs_error | max_abs_error | min_abs_error    | mean_squared_error | mean_percent_error | mean_abs_percent_error |\n",
                        "+---------------+----------------+--------------+----------------+----------------+------------------+---------------+------------------+--------------------+--------------------+------------------------+\n",
                        "| 0.00006882407 | -0.00009970367 | 0.0007019937 | -0.00038671494 | 0.00019403863  | 0.00009970367    | 0.0007019937  | 0.00000062584877 | 0.00000006478466   | -0.00014292327     | 0.0016448115           |\n",
                        "+---------------+----------------+--------------+----------------+----------------+------------------+---------------+------------------+--------------------+--------------------+------------------------+\n",
                        "\n",
                        "\n"
                    ]
                }
            ],
            "source": [
                "\n",
                "\n",
                "run_args = ezkl.PyRunArgs()\n",
                "run_args.variables = [(\"batch_size\", SEQ_LEN)]\n",
                "\n",
                "# TODO: Dictionary outputs\n",
                "res = ezkl.gen_settings(model_path, settings_path, py_run_args=run_args)\n",
                "assert res == True\n",
                "\n",
                "res = ezkl.calibrate_settings(data_path, model_path, settings_path, \"resources\")\n",
                "assert res == True\n"
            ]
        },
        {
            "cell_type": "code",
            "execution_count": 6,
            "metadata": {},
            "outputs": [
                {
                    "name": "stderr",
                    "output_type": "stream",
                    "text": [
                        "Using 2 columns for non-linearity table.\n",
                        "Using 2 columns for non-linearity table.\n",
                        "Using 2 columns for non-linearity table.\n",
                        "Using 2 columns for non-linearity table.\n",
                        "Using 3 columns for non-linearity table.\n",
                        "Using 3 columns for non-linearity table.\n",
                        "Using 3 columns for non-linearity table.\n",
                        "Using 3 columns for non-linearity table.\n",
                        "Using 3 columns for non-linearity table.\n",
                        "Using 3 columns for non-linearity table.\n",
                        "Using 3 columns for non-linearity table.\n",
                        "Using 3 columns for non-linearity table.\n",
                        "Using 3 columns for non-linearity table.\n",
                        "Using 3 columns for non-linearity table.\n",
                        "Using 3 columns for non-linearity table.\n",
                        "Using 3 columns for non-linearity table.\n",
                        "Using 6 columns for non-linearity table.\n",
                        "Using 6 columns for non-linearity table.\n",
                        "Using 6 columns for non-linearity table.\n",
                        "Using 6 columns for non-linearity table.\n",
                        "Using 12 columns for non-linearity table.\n",
                        "Using 12 columns for non-linearity table.\n",
                        "Using 12 columns for non-linearity table.\n",
                        "Using 12 columns for non-linearity table.\n",
                        "Using 12 columns for non-linearity table.\n",
                        "Using 12 columns for non-linearity table.\n",
                        "Using 12 columns for non-linearity table.\n",
                        "Using 12 columns for non-linearity table.\n",
                        "Using 3 columns for non-linearity table.\n",
                        "Using 3 columns for non-linearity table.\n",
                        "Using 3 columns for non-linearity table.\n",
                        "Using 5 columns for non-linearity table.\n",
                        "Using 5 columns for non-linearity table.\n",
                        "Using 5 columns for non-linearity table.\n",
                        "Using 5 columns for non-linearity table.\n",
                        "Using 5 columns for non-linearity table.\n",
                        "Using 5 columns for non-linearity table.\n",
                        "Using 5 columns for non-linearity table.\n",
                        "Using 5 columns for non-linearity table.\n",
                        "Using 5 columns for non-linearity table.\n",
                        "Using 5 columns for non-linearity table.\n",
                        "Using 10 columns for non-linearity table.\n",
                        "Using 10 columns for non-linearity table.\n",
                        "Using 10 columns for non-linearity table.\n",
                        "Using 10 columns for non-linearity table.\n",
                        "Using 10 columns for non-linearity table.\n",
                        "Using 10 columns for non-linearity table.\n",
                        "Using 10 columns for non-linearity table.\n",
                        "\n",
                        "\n",
                        " <------------- Numerical Fidelity Report (input_scale: 11, param_scale: 11, scale_input_multiplier: 1) ------------->\n",
                        "\n",
                        "+----------------+---------------+--------------+----------------+----------------+------------------+---------------+-----------------+--------------------+--------------------+------------------------+\n",
                        "| mean_error     | median_error  | max_error    | min_error      | mean_abs_error | median_abs_error | max_abs_error | min_abs_error   | mean_squared_error | mean_percent_error | mean_abs_percent_error |\n",
                        "+----------------+---------------+--------------+----------------+----------------+------------------+---------------+-----------------+--------------------+--------------------+------------------------+\n",
                        "| -0.00001703192 | 0.00007405132 | 0.0006554499 | -0.00071160495 | 0.00018681076  | 0.00007405132    | 0.00071160495 | 0.0000015050173 | 0.00000005447039   | 0.0002270763       | 0.00436869             |\n",
                        "+----------------+---------------+--------------+----------------+----------------+------------------+---------------+-----------------+--------------------+--------------------+------------------------+\n",
                        "\n",
                        "\n"
                    ]
                },
                {
                    "data": {
                        "text/plain": [
                            "True"
                        ]
                    },
                    "execution_count": 6,
                    "metadata": {},
                    "output_type": "execute_result"
                }
            ],
            "source": [
                "cal_path = os.path.join(\"calibration.json\")\n",
                "\n",
                "data_array = (torch.randn(10, *shape).detach().numpy()).reshape([-1]).tolist()\n",
                "\n",
                "data = dict(input_data = [data_array])\n",
                "\n",
                "# Serialize data into file:\n",
                "json.dump(data, open(cal_path, 'w'))\n",
                "\n",
                "ezkl.calibrate_settings(cal_path, model_path, settings_path, \"resources\")"
            ]
        },
        {
            "cell_type": "code",
            "execution_count": 7,
            "id": "0990f5a8",
            "metadata": {},
            "outputs": [],
            "source": [
                "res = ezkl.compile_circuit(model_path, compiled_model_path, settings_path)\n",
                "assert res == True"
            ]
        },
        {
            "cell_type": "code",
            "execution_count": 8,
            "id": "1b80dc01",
            "metadata": {},
            "outputs": [],
            "source": [
                "# srs path\n",
                "res = ezkl.get_srs( settings_path)"
            ]
        },
        {
            "cell_type": "code",
            "execution_count": 9,
            "id": "54cbde29",
            "metadata": {},
            "outputs": [],
            "source": [
                "# now generate the witness file \n",
                "witness_path = \"lstmwitness.json\"\n",
                "\n",
                "res = ezkl.gen_witness(data_path, compiled_model_path, witness_path)\n",
                "assert os.path.isfile(witness_path)"
            ]
        },
        {
            "cell_type": "code",
            "execution_count": 10,
            "id": "28760638",
            "metadata": {},
            "outputs": [],
            "source": [
                "res = ezkl.mock(witness_path, compiled_model_path)\n",
                "assert res == True"
            ]
        },
        {
            "cell_type": "code",
            "execution_count": 11,
            "id": "5e595112",
            "metadata": {},
            "outputs": [],
            "source": [
                "\n",
                "# HERE WE SETUP THE CIRCUIT PARAMS\n",
                "# WE GOT KEYS\n",
                "# WE GOT CIRCUIT PARAMETERS\n",
                "# EVERYTHING ANYONE HAS EVER NEEDED FOR ZK\n",
                "\n",
                "res = ezkl.setup(\n",
                "        compiled_model_path,\n",
                "        vk_path,\n",
                "        pk_path,\n",
                "        \n",
                "    )\n",
                "\n",
                "assert res == True\n",
                "assert os.path.isfile(vk_path)\n",
                "assert os.path.isfile(pk_path)\n",
                "assert os.path.isfile(settings_path)"
            ]
        },
        {
            "cell_type": "code",
            "execution_count": 12,
            "id": "d37adaef",
            "metadata": {},
            "outputs": [
                {
                    "name": "stdout",
                    "output_type": "stream",
                    "text": [
                        "{'instances': [['82ffffef93f5e1439170b97948e833285d588181b64550b829a031e1724e6430', 'd100000000000000000000000000000000000000000000000000000000000000', '78ffffef93f5e1439170b97948e833285d588181b64550b829a031e1724e6430', '18ffffef93f5e1439170b97948e833285d588181b64550b829a031e1724e6430', '0d01000000000000000000000000000000000000000000000000000000000000', '5bffffef93f5e1439170b97948e833285d588181b64550b829a031e1724e6430', 'cefeffef93f5e1439170b97948e833285d588181b64550b829a031e1724e6430', '7f01000000000000000000000000000000000000000000000000000000000000', 'beffffef93f5e1439170b97948e833285d588181b64550b829a031e1724e6430', '55ffffef93f5e1439170b97948e833285d588181b64550b829a031e1724e6430', 'e801000000000000000000000000000000000000000000000000000000000000', '7700000000000000000000000000000000000000000000000000000000000000', '1affffef93f5e1439170b97948e833285d588181b64550b829a031e1724e6430', '1302000000000000000000000000000000000000000000000000000000000000', '5bffffef93f5e1439170b97948e833285d588181b64550b829a031e1724e6430', '13ffffef93f5e1439170b97948e833285d588181b64550b829a031e1724e6430', '7f01000000000000000000000000000000000000000000000000000000000000', '7500000000000000000000000000000000000000000000000000000000000000', '9efeffef93f5e1439170b97948e833285d588181b64550b829a031e1724e6430', '8e01000000000000000000000000000000000000000000000000000000000000', '3900000000000000000000000000000000000000000000000000000000000000', '36feffef93f5e1439170b97948e833285d588181b64550b829a031e1724e6430', '27ffffef93f5e1439170b97948e833285d588181b64550b829a031e1724e6430', '0f02000000000000000000000000000000000000000000000000000000000000', '5dffffef93f5e1439170b97948e833285d588181b64550b829a031e1724e6430', '5f00000000000000000000000000000000000000000000000000000000000000', '5602000000000000000000000000000000000000000000000000000000000000', '99ffffef93f5e1439170b97948e833285d588181b64550b829a031e1724e6430', 'b700000000000000000000000000000000000000000000000000000000000000', '7d02000000000000000000000000000000000000000000000000000000000000', '99ffffef93f5e1439170b97948e833285d588181b64550b829a031e1724e6430', 'b700000000000000000000000000000000000000000000000000000000000000', '7d02000000000000000000000000000000000000000000000000000000000000', 'eafeffef93f5e1439170b97948e833285d588181b64550b829a031e1724e6430', '0802000000000000000000000000000000000000000000000000000000000000', '8403000000000000000000000000000000000000000000000000000000000000']], 'proof': '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', 'transcript_type': 'EVM'}\n"
                    ]
                }
            ],
            "source": [
                "# GENERATE A PROOF\n",
                "\n",
                "\n",
                "proof_path = os.path.join('test.pf')\n",
                "\n",
                "res = ezkl.prove(\n",
                "        witness_path,\n",
                "        compiled_model_path,\n",
                "        pk_path,\n",
                "        proof_path,\n",
                "        \n",
                "        \"single\",\n",
                "    )\n",
                "\n",
                "print(res)\n",
                "assert os.path.isfile(proof_path)"
            ]
        },
        {
            "cell_type": "code",
            "execution_count": 13,
            "id": "5b58acd5",
            "metadata": {},
            "outputs": [
                {
                    "name": "stdout",
                    "output_type": "stream",
                    "text": [
                        "verified\n"
                    ]
                }
            ],
            "source": [
                "# VERIFY IT\n",
                "res = ezkl.verify(\n",
                "        proof_path,\n",
                "        settings_path,\n",
                "        vk_path,\n",
                "        \n",
                "    )\n",
                "\n",
                "assert res == True\n",
                "print(\"verified\")"
            ]
        }
    ],
    "metadata": {
        "kernelspec": {
            "display_name": "Python 3 (ipykernel)",
            "language": "python",
            "name": "python3"
        },
        "language_info": {
            "codemirror_mode": {
                "name": "ipython",
                "version": 3
            },
            "file_extension": ".py",
            "mimetype": "text/x-python",
            "name": "python",
            "nbconvert_exporter": "python",
            "pygments_lexer": "ipython3",
            "version": "3.10.9"
        }
    },
    "nbformat": 4,
    "nbformat_minor": 5
}
